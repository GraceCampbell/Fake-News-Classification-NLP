{
 "cells": [
  {
   "cell_type": "markdown",
   "metadata": {},
   "source": [
    "# Subreddit Classification with Natural Language Processing\n",
    "\n",
    "## Modeling with $k$-Nearest Neighbors\n",
    "\n",
    "*Author: Grace Campbell*\n",
    "\n",
    "#### Project Directory\n",
    "1. Data Preparation \n",
    "    - [Data Gathering](http://localhost:8889/notebooks/projects/project_3/data-gathering.ipynb)\n",
    "    - [Exploratory Data Analysis](http://localhost:8889/notebooks/projects/project_3/exploratory-data-analysis.ipynb)\n",
    "2. Modeling\n",
    "    - [Naive Bayes](http://localhost:8889/notebooks/projects/project_3/modeling-naive-bayes.ipynb)\n",
    "    - *$k$-Nearest Neighbors*\n",
    "    - [Support-Vector Machine](http://localhost:8889/notebooks/projects/project_3/modeling-svm.ipynb)"
   ]
  },
  {
   "attachments": {
    "image.png": {
     "image/png": "[encoded data removed]"
    }
   },
   "cell_type": "markdown",
   "metadata": {},
   "source": [
    "### Model Introduction\n",
    "\n",
    "In this notebook, I will be modeling with `KNeighborsClassifier`, which uses the $k$-Nearest Neighbors algorithm (a non-parametric method) to predict the class of a data point. The algorithm looks at the class membership of the $k$ closest neighbors to the query point; whichever class is the most represented among the neighbors is the class that gets predicted for the query point.  \n",
    "\n",
    "![image.png](attachment:image.png) [Image source](https://en.wikipedia.org/wiki/K-nearest_neighbors_algorithm#Algorithm)\n",
    "\n",
    "In the example above, the green dot is the query point. If $k$ is 3, then the majority class for the 3 nearest neighbors is 'red triangle', so the model will predict that class for the query point. If $k$ is 5, however, the majority class becomes 'blue square', so that is what the model will predict."
   ]
  },
  {
   "cell_type": "markdown",
   "metadata": {},
   "source": [
    "### Modeling Strategy\n",
    "\n",
    "Before I can begin modeling, I need to turn my text data into numeric data using `TfidfVectorizer`. This transformer will create a matrix of values, where the columns represent every word that appears in the corpus, and the rows represent each document in the corpus. The values are TFIDF statistics for each word in a document.\n",
    "\n",
    "TFIDF stands for \"term frequency-inverse document frequency\" (**term frequency**: the number of times a word occurs in a document; **inverse document frequency**: an inverse function of the number of documents that contain the term). According to [Wikipedia](https://en.wikipedia.org/wiki/Tf%E2%80%93idf), \"[t]he tf–idf value increases proportionally to the number of times a word appears in the document and is offset by the number of documents in the corpus that contain the word, which helps to adjust for the fact that some words appear more frequently in general.\"\n",
    "\n",
    "Both of these methods have hyperparameters that can be tuned to optimize model performance, so I will perform a grid search using a pipeline with `TfidfVectorizer` and `KNeighborsClassifier` to find the best parameters for both in the context of one another. \n",
    "\n",
    "The grid search will test 3 different `TfidfVectorizer` hyperparameters:\n",
    "1. `max_features`: how many features to extract (chosen by highest total frequency)\n",
    "2. `min_df`: the minimum number of documents in which a feature must appear\n",
    "3. `max_df`: the maximum percentage of documents in which a feature can appear\n",
    "\n",
    "and 2 different `KNeighborsClassifier` hyperparameters:\n",
    "1. `n_neighbors`: the $k$ in $k$-Nearest Neighbors -- how many neighbors to compare a data point to in order to decide its class\n",
    "2. `weights`: the weight given to the neighbors (whether all are weighted equally or more weight is given to neighbors closer to the point in question)"
   ]
  },
  {
   "cell_type": "markdown",
   "metadata": {},
   "source": [
    "### Grid Searching for Best Hyperparameters"
   ]
  },
  {
   "cell_type": "code",
   "execution_count": 1,
   "metadata": {},
   "outputs": [],
   "source": [
    "import pandas as pd\n",
    "\n",
    "from sklearn.model_selection import train_test_split, GridSearchCV, cross_val_score\n",
    "from sklearn.pipeline import Pipeline\n",
    "from sklearn.feature_extraction.text import TfidfVectorizer\n",
    "from sklearn.neighbors import KNeighborsClassifier\n",
    "from sklearn.metrics import confusion_matrix, classification_report\n",
    "\n",
    "from tokenizer import token_func\n",
    "\n",
    "df = pd.read_csv('./materials/titles.csv')"
   ]
  },
  {
   "cell_type": "code",
   "execution_count": 2,
   "metadata": {},
   "outputs": [],
   "source": [
    "# Creating X and y\n",
    "X = df['title']\n",
    "y = df['is_onion']\n",
    "\n",
    "# Train-test splitting (with stratification)\n",
    "X_train, X_test, y_train, y_test = train_test_split(X, y, random_state=42, stratify=y)"
   ]
  },
  {
   "cell_type": "code",
   "execution_count": 3,
   "metadata": {},
   "outputs": [],
   "source": [
    "# Instantiating a pipeline\n",
    "pipe = Pipeline([\n",
    "    ('tvec', TfidfVectorizer(tokenizer=token_func)),\n",
    "    ('knn', KNeighborsClassifier())\n",
    "])\n",
    "\n",
    "# Hyperparameters to search over\n",
    "params = {\n",
    "    'tvec__max_features': [None, 1000],\n",
    "    'tvec__min_df': [1, 2],\n",
    "    'tvec__max_df': [0.9, 1.0],\n",
    "    'knn__n_neighbors': [15, 25, 35],\n",
    "    'knn__weights': ['uniform', 'distance']\n",
    "}\n",
    "\n",
    "# Fitting the grid search\n",
    "grid = GridSearchCV(pipe, params, cv=3)\n",
    "grid.fit(X_train, y_train);"
   ]
  },
  {
   "cell_type": "code",
   "execution_count": 4,
   "metadata": {},
   "outputs": [
    {
     "data": {
      "text/plain": [
       "0.8037068239258636"
      ]
     },
     "execution_count": 4,
     "metadata": {},
     "output_type": "execute_result"
    }
   ],
   "source": [
    "grid.best_score_"
   ]
  },
  {
   "cell_type": "code",
   "execution_count": 5,
   "metadata": {},
   "outputs": [
    {
     "data": {
      "text/plain": [
       "{'knn__n_neighbors': 15,\n",
       " 'knn__weights': 'distance',\n",
       " 'tvec__max_df': 0.9,\n",
       " 'tvec__max_features': None,\n",
       " 'tvec__min_df': 1}"
      ]
     },
     "execution_count": 5,
     "metadata": {},
     "output_type": "execute_result"
    }
   ],
   "source": [
    "# Which parameters did the grid search choose?\n",
    "grid.best_params_"
   ]
  },
  {
   "cell_type": "markdown",
   "metadata": {},
   "source": [
    "For `TfidfVectorizer`, the grid search decided:   \n",
    "\n",
    "- `max_features` should be None\n",
    "    - I will have to investigate how many features are kept in the model when there is no maximum. I do not want many more features than I have rows in `X_train` (to prevent collinearity), so I may have to set the `max_features` anyway, regardless of this grid search result.\n",
    "\n",
    "\n",
    "- `min_df` should be 1, effectively meaning there is no minimum document frequency\n",
    "    - Again, I need to see how many features the model keeps, and may need to change `min_df` anyway.\n",
    "\n",
    "\n",
    "- `max_df` should be 0.9, meaning a feature will not be included in the model if it appears in more than 90% of the documents\n",
    "    - Since I eliminated stopwords from the tokens, there most likely will not be many (if any) words that show up in more than 90% of the titles.\n",
    "    \n",
    "    \n",
    "For `KNeighborsClassifier`, the grid search decided:\n",
    "\n",
    "- `n_neighbors` should be 15\n",
    "    - The 15 neighbors closest to the query point will be considered. I believe that 15 neighbors is a number that results in a good bias-variance trade-off: it is small enough that the bias is relatively low, but not so small that the variance is extremely high.\n",
    "    \n",
    "\n",
    "- `weights` should be `distance`\n",
    "    - The closer a neighbor is to the query point, the more influence that point will have over the class prediction. Neighbors that are farther away will have less influence."
   ]
  },
  {
   "cell_type": "markdown",
   "metadata": {},
   "source": [
    "### Transforming `X` Using Best Parameters"
   ]
  },
  {
   "cell_type": "markdown",
   "metadata": {},
   "source": [
    "As I suspected, there are almost 3 times more features in `X_train` than there are rows when `max_features` is None and `min_df` is only 1. After some adjustments, I found setting `max_features` to 2000 still results in a good score while not having too many more features than there are observations."
   ]
  },
  {
   "cell_type": "code",
   "execution_count": 6,
   "metadata": {},
   "outputs": [],
   "source": [
    "tvec = TfidfVectorizer(tokenizer=token_func, max_features=2000, min_df=1, max_df=0.9)\n",
    "\n",
    "tvec.fit(X_train)\n",
    "\n",
    "X_train_t = pd.DataFrame(tvec.transform(X_train).todense(), columns=tvec.get_feature_names())\n",
    "X_test_t  = pd.DataFrame(tvec.transform(X_test).todense(), columns=tvec.get_feature_names())"
   ]
  },
  {
   "cell_type": "markdown",
   "metadata": {},
   "source": [
    "### Running the Optimized Model"
   ]
  },
  {
   "cell_type": "code",
   "execution_count": 7,
   "metadata": {},
   "outputs": [],
   "source": [
    "# Instantiating and fitting the model\n",
    "knn = KNeighborsClassifier(n_neighbors=15, weights='distance')\n",
    "knn.fit(X_train_t, y_train)\n",
    "\n",
    "# Storing predictions\n",
    "y_pred = knn.predict(X_test_t)"
   ]
  },
  {
   "cell_type": "code",
   "execution_count": 8,
   "metadata": {},
   "outputs": [
    {
     "data": {
      "text/plain": [
       "0.8156565656565656"
      ]
     },
     "execution_count": 8,
     "metadata": {},
     "output_type": "execute_result"
    }
   ],
   "source": [
    "# Accuracy score\n",
    "knn.score(X_test_t, y_test)"
   ]
  },
  {
   "cell_type": "code",
   "execution_count": 9,
   "metadata": {
    "scrolled": true
   },
   "outputs": [
    {
     "name": "stdout",
     "output_type": "stream",
     "text": [
      "True Positives: 224\n",
      "False Negatives: 13\n",
      "True Negatives: 99\n",
      "False Positives: 60\n",
      "\n",
      "Sensitivity: 0.9451476793248945\n",
      "Specificity: 0.6226415094339622\n"
     ]
    }
   ],
   "source": [
    "# Confusion Matrix + other metrics\n",
    "tn, fp, fn, tp = confusion_matrix(y_test, y_pred).ravel()\n",
    "\n",
    "print(f'True Positives: {tp}')\n",
    "print(f'False Negatives: {fn}')\n",
    "print(f'True Negatives: {tn}')\n",
    "print(f'False Positives: {fp}\\n')\n",
    "print(f'Sensitivity: {tp/(tp+fn)}')\n",
    "print(f'Specificity: {tn/(tn+fp)}')"
   ]
  },
  {
   "cell_type": "markdown",
   "metadata": {},
   "source": [
    "### Interpretation of Results"
   ]
  },
  {
   "cell_type": "markdown",
   "metadata": {},
   "source": [
    "The baseline accuracy score for the data is the score I would get if I predicted the majority class for every data point. The majority class here, /r/TheOnion, holds around 60% of the data. If I were to predict that every document in the data belonged to /r/TheOnion, I would get an accuracy score of 60%. That is to say, if a model does not predict subreddit membership with greater than 60% accuracy, then it is not a very good model.\n",
    "\n",
    "The fewer features in this model, the poorer its performance. When its `max_features` was None, the model had ~4000 features and scored around 84%, meaning that the model correctly predicted the class 84% of the time. After reducing the `max_features` to 2000, the accuracy score dropped slightly to 82%. When `max_features` was dropped to the number of rows, 1187, the accuracy score dropped further, to around 70%. To get the highest possible accuracy score from this model, I would need to gather more data so that the model could use more features to make predictions.\n",
    "\n",
    "The model has very high sensitivity, meaning that almost all of the posts that were actually from /r/TheOnion were correctly predicted to be from /r/TheOnion. On the flip side, the model has much lower specificity, which means that only about 62% of posts that belong to /r/News were correctly predicted to be from /r/News. It seems that this model is content to predict the positive class almost every time. \n",
    "\n",
    "In a real-world application, it is equally important to me that this model be able to correctly predict when a post is satirical **and** when it is real. The positive class in this case is does not hold more weight than the negative class, therefore I would rather the model be very accurate than very sensitive. For this reason, I do not believe $k$-Nearest Neighbors, at least not this iteration, is the best model for my purposes."
   ]
  }
 ],
 "metadata": {
  "kernelspec": {
   "display_name": "Python 3",
   "language": "python",
   "name": "python3"
  },
  "language_info": {
   "codemirror_mode": {
    "name": "ipython",
    "version": 3
   },
   "file_extension": ".py",
   "mimetype": "text/x-python",
   "name": "python",
   "nbconvert_exporter": "python",
   "pygments_lexer": "ipython3",
   "version": "3.7.3"
  }
 },
 "nbformat": 4,
 "nbformat_minor": 2
}
