{
 "cells": [
  {
   "cell_type": "markdown",
   "metadata": {},
   "source": [
    "# Final Testing on New Data\n",
    "\n",
    "*Author: Grace Campbell*"
   ]
  },
  {
   "cell_type": "code",
   "execution_count": 1,
   "metadata": {
    "scrolled": true
   },
   "outputs": [],
   "source": [
    "from models import get_posts, naive_bayes, knn, svc"
   ]
  },
  {
   "cell_type": "markdown",
   "metadata": {},
   "source": [
    "I have saved the final, \"best\" iterations of the models for use here. This notebook will scrape /r/TheOnion and /r/News again for new titles so that we can see how the models perform on truly unseen data."
   ]
  },
  {
   "cell_type": "code",
   "execution_count": 2,
   "metadata": {},
   "outputs": [],
   "source": [
    "titles = get_posts()"
   ]
  },
  {
   "cell_type": "code",
   "execution_count": 3,
   "metadata": {},
   "outputs": [],
   "source": [
    "X = titles['title']\n",
    "y = titles['is_onion']"
   ]
  },
  {
   "cell_type": "code",
   "execution_count": 4,
   "metadata": {},
   "outputs": [
    {
     "name": "stdout",
     "output_type": "stream",
     "text": [
      "Accuracy score: 0.9071146245059288\n",
      "Sensitivity: 0.9453207150368034\n",
      "Specificity: 0.8430335097001763\n"
     ]
    }
   ],
   "source": [
    "naive_bayes(X, y)"
   ]
  },
  {
   "cell_type": "code",
   "execution_count": 5,
   "metadata": {},
   "outputs": [
    {
     "name": "stdout",
     "output_type": "stream",
     "text": [
      "Accuracy score: 0.7463768115942029\n",
      "Sensitivity: 1.0\n",
      "Specificity: 0.32098765432098764\n"
     ]
    }
   ],
   "source": [
    "knn(X, y)"
   ]
  },
  {
   "cell_type": "code",
   "execution_count": 6,
   "metadata": {
    "scrolled": true
   },
   "outputs": [
    {
     "name": "stdout",
     "output_type": "stream",
     "text": [
      "Accuracy score: 0.8853754940711462\n",
      "Sensitivity: 0.9936908517350158\n",
      "Specificity: 0.7037037037037037\n"
     ]
    }
   ],
   "source": [
    "svc(X, y)"
   ]
  },
  {
   "cell_type": "markdown",
   "metadata": {},
   "source": [
    "Naive Bayes and SVM hold up quite well to this unseen data, with accuracy scores of 90.7% and 88.5%, respectively. $k$-Nearest Neighbors, however, does not seem to perform as well, with an accuracy score of 74.6% and a specificity of 32%. It seems that the kNN model is simply predicting /r/TheOnion every time. It could be that kNN simply is not the best model for this purpose."
   ]
  }
 ],
 "metadata": {
  "kernelspec": {
   "display_name": "Python 3",
   "language": "python",
   "name": "python3"
  },
  "language_info": {
   "codemirror_mode": {
    "name": "ipython",
    "version": 3
   },
   "file_extension": ".py",
   "mimetype": "text/x-python",
   "name": "python",
   "nbconvert_exporter": "python",
   "pygments_lexer": "ipython3",
   "version": "3.7.3"
  }
 },
 "nbformat": 4,
 "nbformat_minor": 2
}
