{
 "cells": [
  {
   "cell_type": "markdown",
   "metadata": {},
   "source": [
    "# Subreddit Classification with Natural Language Processing\n",
    "\n",
    "## Exploratory Data Analysis\n",
    "\n",
    "*Author: Grace Campbell*\n",
    "\n",
    "#### Project Directory\n",
    "1. Data Preparation \n",
    "    - [Data Gathering](http://localhost:8889/notebooks/projects/project_3/data-gathering.ipynb)\n",
    "    - *Exploratory Data Analysis*\n",
    "2. Modeling\n",
    "    - [Naive Bayes](http://localhost:8889/notebooks/projects/project_3/modeling-naive-bayes.ipynb)\n",
    "    - [$k$-Nearest Neighbors](http://localhost:8889/notebooks/projects/project_3/modeling-knn.ipynb)\n",
    "    - [Support-Vector Machine](http://localhost:8889/notebooks/projects/project_3/modeling-svm.ipynb)"
   ]
  },
  {
   "cell_type": "code",
   "execution_count": 2,
   "metadata": {},
   "outputs": [],
   "source": [
    "import pandas as pd\n",
    "\n",
    "from sklearn.feature_extraction.text import CountVectorizer\n",
    "\n",
    "from nltk import pos_tag\n",
    "from nltk.corpus import wordnet\n",
    "from nltk.corpus import stopwords\n",
    "from nltk.tokenize import RegexpTokenizer\n",
    "from nltk.stem.wordnet import WordNetLemmatizer\n",
    "\n",
    "df = pd.read_csv('./materials/titles.csv')"
   ]
  },
  {
   "cell_type": "markdown",
   "metadata": {},
   "source": [
    "Let's take a preliminary look at the titles and classes in the data."
   ]
  },
  {
   "cell_type": "code",
   "execution_count": 85,
   "metadata": {
    "scrolled": true
   },
   "outputs": [
    {
     "data": {
      "text/html": [
       "<div>\n",
       "<style scoped>\n",
       "    .dataframe tbody tr th:only-of-type {\n",
       "        vertical-align: middle;\n",
       "    }\n",
       "\n",
       "    .dataframe tbody tr th {\n",
       "        vertical-align: top;\n",
       "    }\n",
       "\n",
       "    .dataframe thead th {\n",
       "        text-align: right;\n",
       "    }\n",
       "</style>\n",
       "<table border=\"1\" class=\"dataframe\">\n",
       "  <thead>\n",
       "    <tr style=\"text-align: right;\">\n",
       "      <th></th>\n",
       "      <th>title</th>\n",
       "      <th>is_onion</th>\n",
       "    </tr>\n",
       "  </thead>\n",
       "  <tbody>\n",
       "    <tr>\n",
       "      <th>0</th>\n",
       "      <td>Trump threatens to close U.S.-Mexico border next week</td>\n",
       "      <td>0</td>\n",
       "    </tr>\n",
       "    <tr>\n",
       "      <th>1</th>\n",
       "      <td>German Government Refuses to Recognise Guaido’s Envoy as Ambassador</td>\n",
       "      <td>0</td>\n",
       "    </tr>\n",
       "    <tr>\n",
       "      <th>2</th>\n",
       "      <td>Netanyahu Takes Shot At Obama In Campaign Ad</td>\n",
       "      <td>0</td>\n",
       "    </tr>\n",
       "    <tr>\n",
       "      <th>3</th>\n",
       "      <td>MPs asked to vote on withdrawal agreement only</td>\n",
       "      <td>0</td>\n",
       "    </tr>\n",
       "    <tr>\n",
       "      <th>4</th>\n",
       "      <td>The shock of the nude: Brazil's stark new form of political protest</td>\n",
       "      <td>0</td>\n",
       "    </tr>\n",
       "    <tr>\n",
       "      <th>1572</th>\n",
       "      <td>Report: It Pretty Incredible That Americans Entrusted With Driving Cars</td>\n",
       "      <td>1</td>\n",
       "    </tr>\n",
       "    <tr>\n",
       "      <th>1573</th>\n",
       "      <td>Self-Conscious Puppet Has No Idea What To Do With Hands</td>\n",
       "      <td>1</td>\n",
       "    </tr>\n",
       "    <tr>\n",
       "      <th>1574</th>\n",
       "      <td>5 Tokyo Buildings Godzilla Spared Because He Was Considering Having His Bar Mitzvah There</td>\n",
       "      <td>1</td>\n",
       "    </tr>\n",
       "    <tr>\n",
       "      <th>1575</th>\n",
       "      <td>Nation’s Flag Nerds Anxiously Watching D.C. Statehood Push</td>\n",
       "      <td>1</td>\n",
       "    </tr>\n",
       "    <tr>\n",
       "      <th>1576</th>\n",
       "      <td>‘This One Means The Least Of All,’ Says Tom Brady Accepting Super Bowl Trophy</td>\n",
       "      <td>1</td>\n",
       "    </tr>\n",
       "  </tbody>\n",
       "</table>\n",
       "</div>"
      ],
      "text/plain": [
       "                                                                                          title  \\\n",
       "0                                         Trump threatens to close U.S.-Mexico border next week   \n",
       "1                           German Government Refuses to Recognise Guaido’s Envoy as Ambassador   \n",
       "2                                                  Netanyahu Takes Shot At Obama In Campaign Ad   \n",
       "3                                                MPs asked to vote on withdrawal agreement only   \n",
       "4                           The shock of the nude: Brazil's stark new form of political protest   \n",
       "1572                    Report: It Pretty Incredible That Americans Entrusted With Driving Cars   \n",
       "1573                                    Self-Conscious Puppet Has No Idea What To Do With Hands   \n",
       "1574  5 Tokyo Buildings Godzilla Spared Because He Was Considering Having His Bar Mitzvah There   \n",
       "1575                                 Nation’s Flag Nerds Anxiously Watching D.C. Statehood Push   \n",
       "1576              ‘This One Means The Least Of All,’ Says Tom Brady Accepting Super Bowl Trophy   \n",
       "\n",
       "      is_onion  \n",
       "0            0  \n",
       "1            0  \n",
       "2            0  \n",
       "3            0  \n",
       "4            0  \n",
       "1572         1  \n",
       "1573         1  \n",
       "1574         1  \n",
       "1575         1  \n",
       "1576         1  "
      ]
     },
     "execution_count": 85,
     "metadata": {},
     "output_type": "execute_result"
    }
   ],
   "source": [
    "# Looking at a few of the titles from each subreddit -- /r/TheOnion = 1, /r/News = 0\n",
    "pd.options.display.max_colwidth = 300\n",
    "df[:5].append(df[-11:-6])"
   ]
  },
  {
   "cell_type": "code",
   "execution_count": 86,
   "metadata": {},
   "outputs": [
    {
     "data": {
      "text/plain": [
       "title       0\n",
       "is_onion    0\n",
       "dtype: int64"
      ]
     },
     "execution_count": 86,
     "metadata": {},
     "output_type": "execute_result"
    }
   ],
   "source": [
    "# Are there any null values?\n",
    "df.isnull().sum()"
   ]
  },
  {
   "cell_type": "code",
   "execution_count": 87,
   "metadata": {
    "scrolled": true
   },
   "outputs": [
    {
     "data": {
      "text/plain": [
       "1    0.599495\n",
       "0    0.400505\n",
       "Name: is_onion, dtype: float64"
      ]
     },
     "execution_count": 87,
     "metadata": {},
     "output_type": "execute_result"
    }
   ],
   "source": [
    "# Are classes balanced?\n",
    "df['is_onion'].value_counts(normalize=True)"
   ]
  },
  {
   "cell_type": "markdown",
   "metadata": {},
   "source": [
    "There are no null values in this dataset. The classes are relatively balanced, with ~60% of the data from /r/TheOnion and ~40% from /r/News."
   ]
  },
  {
   "cell_type": "markdown",
   "metadata": {},
   "source": [
    "### Preprocessing the Data"
   ]
  },
  {
   "cell_type": "markdown",
   "metadata": {},
   "source": [
    "First, I need to process the titles into tokens and vectorize them so that I can perform exploratory analysis and begin modeling.\n",
    "\n",
    "This will take two steps:\n",
    "1. Create a tokenizing function to break down each title into tokens.\n",
    "    - Convert each word to a token that only includes alphabetical elements (i.e. no numbers or special characters)\n",
    "    - Remove English stop words from the tokens list.\n",
    "    - Define a function that transforms Penn Treebank part-of-speech tags into WordNet part-of-speech tags.\n",
    "    - Use that function to map each token to its lemma.\n",
    "    - Return the final list of lemmatized tokens.\n",
    "    \n",
    "    \n",
    "    \n",
    "2. Use CountVectorizer to transform every word into a count of its frequency across documents.\n",
    "    - For now, do not specify any parameters in the CountVectorizer except the tokenizing function."
   ]
  },
  {
   "cell_type": "code",
   "execution_count": 88,
   "metadata": {},
   "outputs": [],
   "source": [
    "# To convert TreeBank POS tags to WordNet POS tags\n",
    "def get_wordnet_pos(treebank_tag):\n",
    "    if treebank_tag.startswith('J'):\n",
    "        return wordnet.ADJ\n",
    "    elif treebank_tag.startswith('V'):\n",
    "        return wordnet.VERB\n",
    "    elif treebank_tag.startswith('N'):\n",
    "        return wordnet.NOUN\n",
    "    elif treebank_tag.startswith('R'):\n",
    "        return wordnet.ADV\n",
    "    else:\n",
    "        return None\n",
    "\n",
    "# To return a list of lemmatized tokens\n",
    "def token_func(document):\n",
    "    tokenizer = RegexpTokenizer('[a-zA-Z]+')\n",
    "    lemmatizer = WordNetLemmatizer()\n",
    "    tokens = tokenizer.tokenize(document.lower())\n",
    "    words = [w for w in tokens if w not in stopwords.words('english')]\n",
    "    tagged = pos_tag(words)\n",
    "    lemmas = []\n",
    "    for word, tag in tagged:\n",
    "        wntag = get_wordnet_pos(tag)\n",
    "        if wntag is None:\n",
    "            lemma = lemmatizer.lemmatize(word)\n",
    "            lemmas.append(lemma)\n",
    "        else:\n",
    "            lemma = lemmatizer.lemmatize(word, pos=wntag)\n",
    "            lemmas.append(lemma)\n",
    "    return lemmas\n",
    "\n",
    "# I saved this block of code into the file 'tokenizer.py' so I can call it in later notebooks."
   ]
  },
  {
   "cell_type": "code",
   "execution_count": 91,
   "metadata": {},
   "outputs": [],
   "source": [
    "cvec = CountVectorizer(tokenizer=token_func)\n",
    "\n",
    "features = cvec.fit_transform(df['title'])"
   ]
  },
  {
   "cell_type": "code",
   "execution_count": 92,
   "metadata": {
    "scrolled": true
   },
   "outputs": [],
   "source": [
    "features_df = pd.DataFrame(features.todense(), columns=cvec.get_feature_names()).join(df['is_onion'])"
   ]
  },
  {
   "cell_type": "code",
   "execution_count": 93,
   "metadata": {},
   "outputs": [
    {
     "data": {
      "text/plain": [
       "5055"
      ]
     },
     "execution_count": 93,
     "metadata": {},
     "output_type": "execute_result"
    }
   ],
   "source": [
    "# How many unique words do we have in this entire dataset?\n",
    "len(cvec.get_feature_names())"
   ]
  },
  {
   "cell_type": "code",
   "execution_count": 94,
   "metadata": {},
   "outputs": [],
   "source": [
    "features_df = features_df.rename(columns={'u': 'u.s.'})"
   ]
  },
  {
   "cell_type": "code",
   "execution_count": 188,
   "metadata": {},
   "outputs": [
    {
     "data": {
      "text/plain": [
       "new       74\n",
       "man       66\n",
       "say       60\n",
       "get       53\n",
       "trump     42\n",
       "report    39\n",
       "year      38\n",
       "woman     37\n",
       "time      34\n",
       "make      33\n",
       "dtype: int64"
      ]
     },
     "execution_count": 188,
     "metadata": {},
     "output_type": "execute_result"
    }
   ],
   "source": [
    "# In the titles from /r/TheOnion, what are the 10 most frequently seen words? \n",
    "features_df[features_df['is_onion'] == 1].sum().sort_values(ascending=False)[1:11]"
   ]
  },
  {
   "cell_type": "code",
   "execution_count": 191,
   "metadata": {},
   "outputs": [
    {
     "data": {
      "text/plain": [
       "u.s.      85\n",
       "say       75\n",
       "brexit    58\n",
       "trump     46\n",
       "may       43\n",
       "year      41\n",
       "deal      34\n",
       "new       32\n",
       "report    32\n",
       "eu        31\n",
       "dtype: int64"
      ]
     },
     "execution_count": 191,
     "metadata": {},
     "output_type": "execute_result"
    }
   ],
   "source": [
    "# In the titles from /r/News, what are the 10 most frequently seen words? \n",
    "features_df[features_df['is_onion'] == 0].sum().sort_values(ascending=False).head(10)"
   ]
  },
  {
   "cell_type": "markdown",
   "metadata": {},
   "source": [
    "In this first look, it appears that 'new' appears most frequently in titles from /r/TheOnion, while 'u.s.' appears the most in titles from /r/News. It looks like the words 'trump', 'report', and 'year' will not be very discerning, as both groups of titles see these words appear frequently."
   ]
  },
  {
   "cell_type": "code",
   "execution_count": 97,
   "metadata": {},
   "outputs": [
    {
     "data": {
      "text/plain": [
       "2357"
      ]
     },
     "execution_count": 97,
     "metadata": {},
     "output_type": "execute_result"
    }
   ],
   "source": [
    "# How many words only appear once in /r/TheOnion titles?\n",
    "(features_df.loc[features_df['is_onion'] == 1, :].sum() == 1).sum()"
   ]
  },
  {
   "cell_type": "code",
   "execution_count": 98,
   "metadata": {},
   "outputs": [
    {
     "data": {
      "text/plain": [
       "1416"
      ]
     },
     "execution_count": 98,
     "metadata": {},
     "output_type": "execute_result"
    }
   ],
   "source": [
    "# How many words only appear once in /r/News titles?\n",
    "(features_df.loc[features_df['is_onion'] == 0, :].sum() == 1).sum()"
   ]
  },
  {
   "cell_type": "code",
   "execution_count": 99,
   "metadata": {},
   "outputs": [
    {
     "data": {
      "text/plain": [
       "2906"
      ]
     },
     "execution_count": 99,
     "metadata": {},
     "output_type": "execute_result"
    }
   ],
   "source": [
    "# How many words only appear once in the entire dataset?\n",
    "(features_df.sum() == 1).sum()"
   ]
  },
  {
   "cell_type": "markdown",
   "metadata": {},
   "source": [
    "It appears that titles from /r/TheOnion contain more words that are unique within that subset of titles: there are 2,357 words that only appear once in the /r/TheOnion titles. By contrast, the /r/News titles have 1,416 such words.\n",
    "\n",
    "Out of the 5,055 unique words in the entire dataset, only 2,419 appear more than once.\n",
    "\n",
    "Let's look at the most common words that are unique to each subreddit:"
   ]
  },
  {
   "cell_type": "code",
   "execution_count": 186,
   "metadata": {},
   "outputs": [
    {
     "data": {
      "text/html": [
       "<div>\n",
       "<style scoped>\n",
       "    .dataframe tbody tr th:only-of-type {\n",
       "        vertical-align: middle;\n",
       "    }\n",
       "\n",
       "    .dataframe tbody tr th {\n",
       "        vertical-align: top;\n",
       "    }\n",
       "\n",
       "    .dataframe thead th {\n",
       "        text-align: right;\n",
       "    }\n",
       "</style>\n",
       "<table border=\"1\" class=\"dataframe\">\n",
       "  <thead>\n",
       "    <tr style=\"text-align: right;\">\n",
       "      <th></th>\n",
       "      <th>onion_word</th>\n",
       "      <th>onion_count</th>\n",
       "      <th>news_word</th>\n",
       "      <th>news_count</th>\n",
       "    </tr>\n",
       "  </thead>\n",
       "  <tbody>\n",
       "    <tr>\n",
       "      <th>0</th>\n",
       "      <td>watch</td>\n",
       "      <td>21</td>\n",
       "      <td>eu</td>\n",
       "      <td>31</td>\n",
       "    </tr>\n",
       "    <tr>\n",
       "      <th>1</th>\n",
       "      <td>good</td>\n",
       "      <td>18</td>\n",
       "      <td>uk</td>\n",
       "      <td>24</td>\n",
       "    </tr>\n",
       "    <tr>\n",
       "      <th>2</th>\n",
       "      <td>fuck</td>\n",
       "      <td>16</td>\n",
       "      <td>climate</td>\n",
       "      <td>21</td>\n",
       "    </tr>\n",
       "    <tr>\n",
       "      <th>3</th>\n",
       "      <td>mom</td>\n",
       "      <td>14</td>\n",
       "      <td>theresa</td>\n",
       "      <td>19</td>\n",
       "    </tr>\n",
       "    <tr>\n",
       "      <th>4</th>\n",
       "      <td>everyone</td>\n",
       "      <td>12</td>\n",
       "      <td>parliament</td>\n",
       "      <td>18</td>\n",
       "    </tr>\n",
       "    <tr>\n",
       "      <th>5</th>\n",
       "      <td>beautiful</td>\n",
       "      <td>12</td>\n",
       "      <td>china</td>\n",
       "      <td>16</td>\n",
       "    </tr>\n",
       "    <tr>\n",
       "      <th>6</th>\n",
       "      <td>god</td>\n",
       "      <td>12</td>\n",
       "      <td>trade</td>\n",
       "      <td>15</td>\n",
       "    </tr>\n",
       "    <tr>\n",
       "      <th>7</th>\n",
       "      <td>fan</td>\n",
       "      <td>11</td>\n",
       "      <td>mexico</td>\n",
       "      <td>13</td>\n",
       "    </tr>\n",
       "    <tr>\n",
       "      <th>8</th>\n",
       "      <td>night</td>\n",
       "      <td>11</td>\n",
       "      <td>boeing</td>\n",
       "      <td>13</td>\n",
       "    </tr>\n",
       "    <tr>\n",
       "      <th>9</th>\n",
       "      <td>bowl</td>\n",
       "      <td>10</td>\n",
       "      <td>april</td>\n",
       "      <td>11</td>\n",
       "    </tr>\n",
       "    <tr>\n",
       "      <th>10</th>\n",
       "      <td>class</td>\n",
       "      <td>10</td>\n",
       "      <td>huawei</td>\n",
       "      <td>11</td>\n",
       "    </tr>\n",
       "    <tr>\n",
       "      <th>11</th>\n",
       "      <td>pretty</td>\n",
       "      <td>10</td>\n",
       "      <td>guaido</td>\n",
       "      <td>11</td>\n",
       "    </tr>\n",
       "    <tr>\n",
       "      <th>12</th>\n",
       "      <td>dad</td>\n",
       "      <td>10</td>\n",
       "      <td>migrant</td>\n",
       "      <td>11</td>\n",
       "    </tr>\n",
       "    <tr>\n",
       "      <th>13</th>\n",
       "      <td>picture</td>\n",
       "      <td>10</td>\n",
       "      <td>russian</td>\n",
       "      <td>11</td>\n",
       "    </tr>\n",
       "    <tr>\n",
       "      <th>14</th>\n",
       "      <td>incredible</td>\n",
       "      <td>9</td>\n",
       "      <td>journalist</td>\n",
       "      <td>10</td>\n",
       "    </tr>\n",
       "    <tr>\n",
       "      <th>15</th>\n",
       "      <td>heart</td>\n",
       "      <td>9</td>\n",
       "      <td>mp</td>\n",
       "      <td>10</td>\n",
       "    </tr>\n",
       "  </tbody>\n",
       "</table>\n",
       "</div>"
      ],
      "text/plain": [
       "    onion_word  onion_count   news_word  news_count\n",
       "0        watch           21          eu          31\n",
       "1         good           18          uk          24\n",
       "2         fuck           16     climate          21\n",
       "3          mom           14     theresa          19\n",
       "4     everyone           12  parliament          18\n",
       "5    beautiful           12       china          16\n",
       "6          god           12       trade          15\n",
       "7          fan           11      mexico          13\n",
       "8        night           11      boeing          13\n",
       "9         bowl           10       april          11\n",
       "10       class           10      huawei          11\n",
       "11      pretty           10      guaido          11\n",
       "12         dad           10     migrant          11\n",
       "13     picture           10     russian          11\n",
       "14  incredible            9  journalist          10\n",
       "15       heart            9          mp          10"
      ]
     },
     "execution_count": 186,
     "metadata": {},
     "output_type": "execute_result"
    }
   ],
   "source": [
    "# Creating the list of words that show up more than 10 times, for each subreddit\n",
    "onion_words = list(features_df.loc[:, features_df.loc[features_df['is_onion'] == 1, :].sum() > 0].sum().index[:-1])\n",
    "news_words = list(features_df.loc[:, features_df.loc[features_df['is_onion'] == 0, :].sum() > 0].sum().index)\n",
    "\n",
    "# Iterating through the lists to create a Series of words unique to each subreddit + the word count\n",
    "onion_unique = [word for word in onion_words if word not in news_words]\n",
    "news_unique = [word for word in news_words if word not in onion_words]\n",
    "\n",
    "onion_unique_df = (features_df[onion_unique].sum().sort_values(ascending=False)[:16])\n",
    "news_unique_df  = (features_df[news_unique].sum().sort_values(ascending=False)[:16])\n",
    "\n",
    "# Creating dataframe \n",
    "pd.DataFrame({\n",
    "    'onion_word': onion_unique_df.index,\n",
    "    'onion_count': onion_unique_df.values,\n",
    "    'news_word': news_unique_df.index,\n",
    "    'news_count': news_unique_df.values\n",
    "})"
   ]
  },
  {
   "cell_type": "markdown",
   "metadata": {},
   "source": [
    "### Visualization"
   ]
  },
  {
   "cell_type": "code",
   "execution_count": 164,
   "metadata": {},
   "outputs": [
    {
     "data": {
      "image/png": "[encoded data removed]",
      "text/plain": [
       "<Figure size 576x720 with 1 Axes>"
      ]
     },
     "metadata": {},
     "output_type": "display_data"
    }
   ],
   "source": [
    "import matplotlib.pyplot as plt\n",
    "import seaborn as sns\n",
    "sns.set_style('dark')\n",
    "\n",
    "# Making a list of the most common words in the entire dataset and turning it into a dataframe\n",
    "most_common = list(features_df.sum().sort_values(ascending=False).index[1:22])\n",
    "common_df = features_df[most_common].groupby(features_df['is_onion']).sum().T\n",
    "\n",
    "# Creating new columns in order to configure the visualization\n",
    "common_df['total'] = (common_df[1]+common_df[0])\n",
    "common_df['onion_%'] = common_df[1]/common_df['total']\n",
    "common_df['news_%'] = common_df[0]/common_df['total']\n",
    "common_df = common_df.sort_values(by='onion_%')\n",
    "\n",
    "# Plotting/formatting\n",
    "ax = common_df[['news_%', 'onion_%']].plot(kind='barh', figsize=(8, 10), fontsize=13, colormap='Spectral')\n",
    "ax.set_title('Overall Most Common Words (grouped by subreddit)', fontsize=18)\n",
    "ax.legend(labels=['/r/News', '/r/TheOnion'], loc=7, fontsize='large')\n",
    "ax.set_xlabel('Percentage of Total Occurrences', fontsize=15);"
   ]
  },
  {
   "cell_type": "code",
   "execution_count": 163,
   "metadata": {},
   "outputs": [
    {
     "data": {
      "image/png": "[encoded data removed]",
      "text/plain": [
       "<Figure size 1152x720 with 2 Axes>"
      ]
     },
     "metadata": {
      "needs_background": "light"
     },
     "output_type": "display_data"
    }
   ],
   "source": [
    "# Making a list of the 21 most common words in each subreddit\n",
    "onion_common = list(features_df.loc[features_df['is_onion'] == 1, :].sum().sort_values(ascending=False).index[1:22])\n",
    "news_common = list(features_df.loc[features_df['is_onion'] == 0, :].sum().sort_values(ascending=False).index[1:22])\n",
    "\n",
    "# Turning those lists into dataframes to plot\n",
    "onion_common_df = features_df[onion_common].groupby(features_df['is_onion']).sum().T.sort_values(by=1)\n",
    "news_common_df = features_df[news_common].groupby(features_df['is_onion']).sum().T.sort_values(by=0)\n",
    "\n",
    "# Plotting/formatting\n",
    "plt.figure().suptitle('Most common words in each subreddit\\nvs. frequency in other subreddit', fontsize=20)\n",
    "\n",
    "ax1 = plt.subplot(121)\n",
    "onion_common_df.plot(kind='barh', figsize=(16, 10), fontsize=13, colormap='Spectral', ax=ax1)\n",
    "ax1.set_title('/r/TheOnion', fontsize=15)\n",
    "ax1.legend(labels=['/r/News', '/r/TheOnion'], loc=7, fontsize='large')\n",
    "ax1.set_xlabel('Total Word Count', fontsize=15);\n",
    "\n",
    "ax2 = plt.subplot(122)\n",
    "news_common_df.plot(kind='barh', fontsize=13, colormap='Spectral', ax=ax2)\n",
    "ax2.set_title('/r/News', fontsize=15)\n",
    "ax2.legend(labels=['/r/News', '/r/TheOnion'], loc=7, fontsize='large')\n",
    "ax2.set_xlabel('Total Word Count', fontsize=15);"
   ]
  }
 ],
 "metadata": {
  "kernelspec": {
   "display_name": "Python 3",
   "language": "python",
   "name": "python3"
  },
  "language_info": {
   "codemirror_mode": {
    "name": "ipython",
    "version": 3
   },
   "file_extension": ".py",
   "mimetype": "text/x-python",
   "name": "python",
   "nbconvert_exporter": "python",
   "pygments_lexer": "ipython3",
   "version": "3.7.3"
  }
 },
 "nbformat": 4,
 "nbformat_minor": 2
}
